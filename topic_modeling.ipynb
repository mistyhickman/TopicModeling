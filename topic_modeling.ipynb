{
 "cells": [
  {
   "cell_type": "code",
   "execution_count": 34,
   "metadata": {},
   "outputs": [
    {
     "name": "stdout",
     "output_type": "stream",
     "text": [
      "Defaulting to user installation because normal site-packages is not writeable\n",
      "Requirement already satisfied: gensim in c:\\users\\misty.hickman\\appdata\\roaming\\python\\python312\\site-packages (4.3.3)\n",
      "Requirement already satisfied: pyLDAvis in c:\\users\\misty.hickman\\appdata\\roaming\\python\\python312\\site-packages (3.4.1)\n",
      "Requirement already satisfied: mlflow in c:\\users\\misty.hickman\\appdata\\roaming\\python\\python312\\site-packages (2.19.0)\n",
      "Requirement already satisfied: numpy<2.0,>=1.18.5 in c:\\users\\misty.hickman\\appdata\\roaming\\python\\python312\\site-packages (from gensim) (1.26.4)\n",
      "Requirement already satisfied: scipy<1.14.0,>=1.7.0 in c:\\users\\misty.hickman\\appdata\\roaming\\python\\python312\\site-packages (from gensim) (1.13.1)\n",
      "Requirement already satisfied: smart-open>=1.8.1 in c:\\users\\misty.hickman\\appdata\\roaming\\python\\python312\\site-packages (from gensim) (7.1.0)\n",
      "Requirement already satisfied: pandas>=2.0.0 in c:\\users\\misty.hickman\\appdata\\roaming\\python\\python312\\site-packages (from pyLDAvis) (2.2.3)\n",
      "Requirement already satisfied: joblib>=1.2.0 in c:\\users\\misty.hickman\\appdata\\roaming\\python\\python312\\site-packages (from pyLDAvis) (1.4.2)\n",
      "Requirement already satisfied: jinja2 in c:\\users\\misty.hickman\\appdata\\roaming\\python\\python312\\site-packages (from pyLDAvis) (3.1.4)\n",
      "Requirement already satisfied: numexpr in c:\\users\\misty.hickman\\appdata\\roaming\\python\\python312\\site-packages (from pyLDAvis) (2.10.2)\n",
      "Requirement already satisfied: funcy in c:\\users\\misty.hickman\\appdata\\roaming\\python\\python312\\site-packages (from pyLDAvis) (2.0)\n",
      "Requirement already satisfied: scikit-learn>=1.0.0 in c:\\users\\misty.hickman\\appdata\\roaming\\python\\python312\\site-packages (from pyLDAvis) (1.6.0)\n",
      "Requirement already satisfied: setuptools in c:\\users\\misty.hickman\\appdata\\roaming\\python\\python312\\site-packages (from pyLDAvis) (75.7.0)\n",
      "Requirement already satisfied: mlflow-skinny==2.19.0 in c:\\users\\misty.hickman\\appdata\\roaming\\python\\python312\\site-packages (from mlflow) (2.19.0)\n",
      "Requirement already satisfied: Flask<4 in c:\\users\\misty.hickman\\appdata\\roaming\\python\\python312\\site-packages (from mlflow) (3.0.3)\n",
      "Requirement already satisfied: alembic!=1.10.0,<2 in c:\\users\\misty.hickman\\appdata\\roaming\\python\\python312\\site-packages (from mlflow) (1.14.0)\n",
      "Requirement already satisfied: docker<8,>=4.0.0 in c:\\users\\misty.hickman\\appdata\\roaming\\python\\python312\\site-packages (from mlflow) (7.1.0)\n",
      "Requirement already satisfied: graphene<4 in c:\\users\\misty.hickman\\appdata\\roaming\\python\\python312\\site-packages (from mlflow) (3.4.3)\n",
      "Requirement already satisfied: markdown<4,>=3.3 in c:\\users\\misty.hickman\\appdata\\roaming\\python\\python312\\site-packages (from mlflow) (3.7)\n",
      "Requirement already satisfied: matplotlib<4 in c:\\users\\misty.hickman\\appdata\\roaming\\python\\python312\\site-packages (from mlflow) (3.10.0)\n",
      "Requirement already satisfied: pyarrow<19,>=4.0.0 in c:\\users\\misty.hickman\\appdata\\roaming\\python\\python312\\site-packages (from mlflow) (18.1.0)\n",
      "Requirement already satisfied: sqlalchemy<3,>=1.4.0 in c:\\users\\misty.hickman\\appdata\\roaming\\python\\python312\\site-packages (from mlflow) (2.0.36)\n",
      "Requirement already satisfied: waitress<4 in c:\\users\\misty.hickman\\appdata\\roaming\\python\\python312\\site-packages (from mlflow) (3.0.2)\n",
      "Requirement already satisfied: cachetools<6,>=5.0.0 in c:\\users\\misty.hickman\\appdata\\roaming\\python\\python312\\site-packages (from mlflow-skinny==2.19.0->mlflow) (5.5.0)\n",
      "Requirement already satisfied: click<9,>=7.0 in c:\\users\\misty.hickman\\appdata\\roaming\\python\\python312\\site-packages (from mlflow-skinny==2.19.0->mlflow) (8.1.7)\n",
      "Requirement already satisfied: cloudpickle<4 in c:\\users\\misty.hickman\\appdata\\roaming\\python\\python312\\site-packages (from mlflow-skinny==2.19.0->mlflow) (3.1.1)\n",
      "Requirement already satisfied: databricks-sdk<1,>=0.20.0 in c:\\users\\misty.hickman\\appdata\\roaming\\python\\python312\\site-packages (from mlflow-skinny==2.19.0->mlflow) (0.40.0)\n",
      "Requirement already satisfied: gitpython<4,>=3.1.9 in c:\\users\\misty.hickman\\appdata\\roaming\\python\\python312\\site-packages (from mlflow-skinny==2.19.0->mlflow) (3.1.44)\n",
      "Requirement already satisfied: importlib_metadata!=4.7.0,<9,>=3.7.0 in c:\\users\\misty.hickman\\appdata\\roaming\\python\\python312\\site-packages (from mlflow-skinny==2.19.0->mlflow) (8.5.0)\n",
      "Requirement already satisfied: opentelemetry-api<3,>=1.9.0 in c:\\users\\misty.hickman\\appdata\\roaming\\python\\python312\\site-packages (from mlflow-skinny==2.19.0->mlflow) (1.29.0)\n",
      "Requirement already satisfied: opentelemetry-sdk<3,>=1.9.0 in c:\\users\\misty.hickman\\appdata\\roaming\\python\\python312\\site-packages (from mlflow-skinny==2.19.0->mlflow) (1.29.0)\n",
      "Requirement already satisfied: packaging<25 in c:\\users\\misty.hickman\\appdata\\roaming\\python\\python312\\site-packages (from mlflow-skinny==2.19.0->mlflow) (24.1)\n",
      "Requirement already satisfied: protobuf<6,>=3.12.0 in c:\\users\\misty.hickman\\appdata\\roaming\\python\\python312\\site-packages (from mlflow-skinny==2.19.0->mlflow) (3.19.0)\n",
      "Requirement already satisfied: pyyaml<7,>=5.1 in c:\\users\\misty.hickman\\appdata\\roaming\\python\\python312\\site-packages (from mlflow-skinny==2.19.0->mlflow) (6.0.2)\n",
      "Requirement already satisfied: requests<3,>=2.17.3 in c:\\users\\misty.hickman\\appdata\\roaming\\python\\python312\\site-packages (from mlflow-skinny==2.19.0->mlflow) (2.32.3)\n",
      "Requirement already satisfied: sqlparse<1,>=0.4.0 in c:\\users\\misty.hickman\\appdata\\roaming\\python\\python312\\site-packages (from mlflow-skinny==2.19.0->mlflow) (0.5.3)\n",
      "Requirement already satisfied: Mako in c:\\users\\misty.hickman\\appdata\\roaming\\python\\python312\\site-packages (from alembic!=1.10.0,<2->mlflow) (1.3.8)\n",
      "Requirement already satisfied: typing-extensions>=4 in c:\\users\\misty.hickman\\appdata\\roaming\\python\\python312\\site-packages (from alembic!=1.10.0,<2->mlflow) (4.12.2)\n",
      "Requirement already satisfied: pywin32>=304 in c:\\users\\misty.hickman\\appdata\\roaming\\python\\python312\\site-packages (from docker<8,>=4.0.0->mlflow) (308)\n",
      "Requirement already satisfied: urllib3>=1.26.0 in c:\\users\\misty.hickman\\appdata\\roaming\\python\\python312\\site-packages (from docker<8,>=4.0.0->mlflow) (2.2.3)\n",
      "Requirement already satisfied: Werkzeug>=3.0.0 in c:\\users\\misty.hickman\\appdata\\roaming\\python\\python312\\site-packages (from Flask<4->mlflow) (3.0.4)\n",
      "Requirement already satisfied: itsdangerous>=2.1.2 in c:\\users\\misty.hickman\\appdata\\roaming\\python\\python312\\site-packages (from Flask<4->mlflow) (2.2.0)\n",
      "Requirement already satisfied: blinker>=1.6.2 in c:\\users\\misty.hickman\\appdata\\roaming\\python\\python312\\site-packages (from Flask<4->mlflow) (1.8.2)\n",
      "Requirement already satisfied: graphql-core<3.3,>=3.1 in c:\\users\\misty.hickman\\appdata\\roaming\\python\\python312\\site-packages (from graphene<4->mlflow) (3.2.5)\n",
      "Requirement already satisfied: graphql-relay<3.3,>=3.1 in c:\\users\\misty.hickman\\appdata\\roaming\\python\\python312\\site-packages (from graphene<4->mlflow) (3.2.0)\n",
      "Requirement already satisfied: python-dateutil<3,>=2.7.0 in c:\\users\\misty.hickman\\appdata\\roaming\\python\\python312\\site-packages (from graphene<4->mlflow) (2.9.0.post0)\n",
      "Requirement already satisfied: MarkupSafe>=2.0 in c:\\users\\misty.hickman\\appdata\\roaming\\python\\python312\\site-packages (from jinja2->pyLDAvis) (3.0.1)\n",
      "Requirement already satisfied: contourpy>=1.0.1 in c:\\users\\misty.hickman\\appdata\\roaming\\python\\python312\\site-packages (from matplotlib<4->mlflow) (1.3.1)\n",
      "Requirement already satisfied: cycler>=0.10 in c:\\users\\misty.hickman\\appdata\\roaming\\python\\python312\\site-packages (from matplotlib<4->mlflow) (0.12.1)\n",
      "Requirement already satisfied: fonttools>=4.22.0 in c:\\users\\misty.hickman\\appdata\\roaming\\python\\python312\\site-packages (from matplotlib<4->mlflow) (4.55.3)\n",
      "Requirement already satisfied: kiwisolver>=1.3.1 in c:\\users\\misty.hickman\\appdata\\roaming\\python\\python312\\site-packages (from matplotlib<4->mlflow) (1.4.8)\n",
      "Requirement already satisfied: pillow>=8 in c:\\users\\misty.hickman\\appdata\\roaming\\python\\python312\\site-packages (from matplotlib<4->mlflow) (11.1.0)\n",
      "Requirement already satisfied: pyparsing>=2.3.1 in c:\\users\\misty.hickman\\appdata\\roaming\\python\\python312\\site-packages (from matplotlib<4->mlflow) (3.2.1)\n",
      "Requirement already satisfied: pytz>=2020.1 in c:\\users\\misty.hickman\\appdata\\roaming\\python\\python312\\site-packages (from pandas>=2.0.0->pyLDAvis) (2024.2)\n",
      "Requirement already satisfied: tzdata>=2022.7 in c:\\users\\misty.hickman\\appdata\\roaming\\python\\python312\\site-packages (from pandas>=2.0.0->pyLDAvis) (2024.2)\n",
      "Requirement already satisfied: threadpoolctl>=3.1.0 in c:\\users\\misty.hickman\\appdata\\roaming\\python\\python312\\site-packages (from scikit-learn>=1.0.0->pyLDAvis) (3.5.0)\n",
      "Requirement already satisfied: wrapt in c:\\users\\misty.hickman\\appdata\\roaming\\python\\python312\\site-packages (from smart-open>=1.8.1->gensim) (1.17.2)\n",
      "Requirement already satisfied: greenlet!=0.4.17 in c:\\users\\misty.hickman\\appdata\\roaming\\python\\python312\\site-packages (from sqlalchemy<3,>=1.4.0->mlflow) (3.1.1)\n",
      "Requirement already satisfied: colorama in c:\\users\\misty.hickman\\appdata\\roaming\\python\\python312\\site-packages (from click<9,>=7.0->mlflow-skinny==2.19.0->mlflow) (0.4.6)\n",
      "Requirement already satisfied: google-auth~=2.0 in c:\\users\\misty.hickman\\appdata\\roaming\\python\\python312\\site-packages (from databricks-sdk<1,>=0.20.0->mlflow-skinny==2.19.0->mlflow) (2.37.0)\n",
      "Requirement already satisfied: gitdb<5,>=4.0.1 in c:\\users\\misty.hickman\\appdata\\roaming\\python\\python312\\site-packages (from gitpython<4,>=3.1.9->mlflow-skinny==2.19.0->mlflow) (4.0.12)\n",
      "Requirement already satisfied: zipp>=3.20 in c:\\users\\misty.hickman\\appdata\\roaming\\python\\python312\\site-packages (from importlib_metadata!=4.7.0,<9,>=3.7.0->mlflow-skinny==2.19.0->mlflow) (3.21.0)\n",
      "Requirement already satisfied: deprecated>=1.2.6 in c:\\users\\misty.hickman\\appdata\\roaming\\python\\python312\\site-packages (from opentelemetry-api<3,>=1.9.0->mlflow-skinny==2.19.0->mlflow) (1.2.15)\n",
      "Requirement already satisfied: opentelemetry-semantic-conventions==0.50b0 in c:\\users\\misty.hickman\\appdata\\roaming\\python\\python312\\site-packages (from opentelemetry-sdk<3,>=1.9.0->mlflow-skinny==2.19.0->mlflow) (0.50b0)\n",
      "Requirement already satisfied: six>=1.5 in c:\\users\\misty.hickman\\appdata\\roaming\\python\\python312\\site-packages (from python-dateutil<3,>=2.7.0->graphene<4->mlflow) (1.16.0)\n",
      "Requirement already satisfied: charset-normalizer<4,>=2 in c:\\users\\misty.hickman\\appdata\\roaming\\python\\python312\\site-packages (from requests<3,>=2.17.3->mlflow-skinny==2.19.0->mlflow) (3.4.0)\n",
      "Requirement already satisfied: idna<4,>=2.5 in c:\\users\\misty.hickman\\appdata\\roaming\\python\\python312\\site-packages (from requests<3,>=2.17.3->mlflow-skinny==2.19.0->mlflow) (3.10)\n",
      "Requirement already satisfied: certifi>=2017.4.17 in c:\\users\\misty.hickman\\appdata\\roaming\\python\\python312\\site-packages (from requests<3,>=2.17.3->mlflow-skinny==2.19.0->mlflow) (2024.8.30)\n",
      "Requirement already satisfied: smmap<6,>=3.0.1 in c:\\users\\misty.hickman\\appdata\\roaming\\python\\python312\\site-packages (from gitdb<5,>=4.0.1->gitpython<4,>=3.1.9->mlflow-skinny==2.19.0->mlflow) (5.0.2)\n",
      "Requirement already satisfied: pyasn1-modules>=0.2.1 in c:\\users\\misty.hickman\\appdata\\roaming\\python\\python312\\site-packages (from google-auth~=2.0->databricks-sdk<1,>=0.20.0->mlflow-skinny==2.19.0->mlflow) (0.4.1)\n",
      "Requirement already satisfied: rsa<5,>=3.1.4 in c:\\users\\misty.hickman\\appdata\\roaming\\python\\python312\\site-packages (from google-auth~=2.0->databricks-sdk<1,>=0.20.0->mlflow-skinny==2.19.0->mlflow) (4.9)\n",
      "Requirement already satisfied: pyasn1<0.7.0,>=0.4.6 in c:\\users\\misty.hickman\\appdata\\roaming\\python\\python312\\site-packages (from pyasn1-modules>=0.2.1->google-auth~=2.0->databricks-sdk<1,>=0.20.0->mlflow-skinny==2.19.0->mlflow) (0.6.1)\n",
      "Defaulting to user installation because normal site-packages is not writeable\n",
      "Requirement already satisfied: protobuf==3.19.0 in c:\\users\\misty.hickman\\appdata\\roaming\\python\\python312\\site-packages (3.19.0)\n",
      "Defaulting to user installation because normal site-packages is not writeable\n",
      "Requirement already satisfied: spacy in c:\\users\\misty.hickman\\appdata\\roaming\\python\\python312\\site-packages (3.8.4)\n",
      "Requirement already satisfied: spacy-legacy<3.1.0,>=3.0.11 in c:\\users\\misty.hickman\\appdata\\roaming\\python\\python312\\site-packages (from spacy) (3.0.12)\n",
      "Requirement already satisfied: spacy-loggers<2.0.0,>=1.0.0 in c:\\users\\misty.hickman\\appdata\\roaming\\python\\python312\\site-packages (from spacy) (1.0.5)\n",
      "Requirement already satisfied: murmurhash<1.1.0,>=0.28.0 in c:\\users\\misty.hickman\\appdata\\roaming\\python\\python312\\site-packages (from spacy) (1.0.12)\n",
      "Requirement already satisfied: cymem<2.1.0,>=2.0.2 in c:\\users\\misty.hickman\\appdata\\roaming\\python\\python312\\site-packages (from spacy) (2.0.11)\n",
      "Requirement already satisfied: preshed<3.1.0,>=3.0.2 in c:\\users\\misty.hickman\\appdata\\roaming\\python\\python312\\site-packages (from spacy) (3.0.9)\n",
      "Requirement already satisfied: thinc<8.4.0,>=8.3.4 in c:\\users\\misty.hickman\\appdata\\roaming\\python\\python312\\site-packages (from spacy) (8.3.4)\n",
      "Requirement already satisfied: wasabi<1.2.0,>=0.9.1 in c:\\users\\misty.hickman\\appdata\\roaming\\python\\python312\\site-packages (from spacy) (1.1.3)\n",
      "Requirement already satisfied: srsly<3.0.0,>=2.4.3 in c:\\users\\misty.hickman\\appdata\\roaming\\python\\python312\\site-packages (from spacy) (2.5.1)\n",
      "Requirement already satisfied: catalogue<2.1.0,>=2.0.6 in c:\\users\\misty.hickman\\appdata\\roaming\\python\\python312\\site-packages (from spacy) (2.0.10)\n",
      "Requirement already satisfied: weasel<0.5.0,>=0.1.0 in c:\\users\\misty.hickman\\appdata\\roaming\\python\\python312\\site-packages (from spacy) (0.4.1)\n",
      "Requirement already satisfied: typer<1.0.0,>=0.3.0 in c:\\users\\misty.hickman\\appdata\\roaming\\python\\python312\\site-packages (from spacy) (0.15.1)\n",
      "Requirement already satisfied: tqdm<5.0.0,>=4.38.0 in c:\\users\\misty.hickman\\appdata\\roaming\\python\\python312\\site-packages (from spacy) (4.66.5)\n",
      "Requirement already satisfied: numpy>=1.19.0 in c:\\users\\misty.hickman\\appdata\\roaming\\python\\python312\\site-packages (from spacy) (1.26.4)\n",
      "Requirement already satisfied: requests<3.0.0,>=2.13.0 in c:\\users\\misty.hickman\\appdata\\roaming\\python\\python312\\site-packages (from spacy) (2.32.3)\n",
      "Requirement already satisfied: pydantic!=1.8,!=1.8.1,<3.0.0,>=1.7.4 in c:\\users\\misty.hickman\\appdata\\roaming\\python\\python312\\site-packages (from spacy) (2.9.2)\n",
      "Requirement already satisfied: jinja2 in c:\\users\\misty.hickman\\appdata\\roaming\\python\\python312\\site-packages (from spacy) (3.1.4)\n",
      "Requirement already satisfied: setuptools in c:\\users\\misty.hickman\\appdata\\roaming\\python\\python312\\site-packages (from spacy) (75.7.0)\n",
      "Requirement already satisfied: packaging>=20.0 in c:\\users\\misty.hickman\\appdata\\roaming\\python\\python312\\site-packages (from spacy) (24.1)\n",
      "Requirement already satisfied: langcodes<4.0.0,>=3.2.0 in c:\\users\\misty.hickman\\appdata\\roaming\\python\\python312\\site-packages (from spacy) (3.5.0)\n",
      "Requirement already satisfied: language-data>=1.2 in c:\\users\\misty.hickman\\appdata\\roaming\\python\\python312\\site-packages (from langcodes<4.0.0,>=3.2.0->spacy) (1.3.0)\n",
      "Requirement already satisfied: annotated-types>=0.6.0 in c:\\users\\misty.hickman\\appdata\\roaming\\python\\python312\\site-packages (from pydantic!=1.8,!=1.8.1,<3.0.0,>=1.7.4->spacy) (0.7.0)\n",
      "Requirement already satisfied: pydantic-core==2.23.4 in c:\\users\\misty.hickman\\appdata\\roaming\\python\\python312\\site-packages (from pydantic!=1.8,!=1.8.1,<3.0.0,>=1.7.4->spacy) (2.23.4)\n",
      "Requirement already satisfied: typing-extensions>=4.6.1 in c:\\users\\misty.hickman\\appdata\\roaming\\python\\python312\\site-packages (from pydantic!=1.8,!=1.8.1,<3.0.0,>=1.7.4->spacy) (4.12.2)\n",
      "Requirement already satisfied: charset-normalizer<4,>=2 in c:\\users\\misty.hickman\\appdata\\roaming\\python\\python312\\site-packages (from requests<3.0.0,>=2.13.0->spacy) (3.4.0)\n",
      "Requirement already satisfied: idna<4,>=2.5 in c:\\users\\misty.hickman\\appdata\\roaming\\python\\python312\\site-packages (from requests<3.0.0,>=2.13.0->spacy) (3.10)\n",
      "Requirement already satisfied: urllib3<3,>=1.21.1 in c:\\users\\misty.hickman\\appdata\\roaming\\python\\python312\\site-packages (from requests<3.0.0,>=2.13.0->spacy) (2.2.3)\n",
      "Requirement already satisfied: certifi>=2017.4.17 in c:\\users\\misty.hickman\\appdata\\roaming\\python\\python312\\site-packages (from requests<3.0.0,>=2.13.0->spacy) (2024.8.30)\n",
      "Requirement already satisfied: blis<1.3.0,>=1.2.0 in c:\\users\\misty.hickman\\appdata\\roaming\\python\\python312\\site-packages (from thinc<8.4.0,>=8.3.4->spacy) (1.2.0)\n",
      "Requirement already satisfied: confection<1.0.0,>=0.0.1 in c:\\users\\misty.hickman\\appdata\\roaming\\python\\python312\\site-packages (from thinc<8.4.0,>=8.3.4->spacy) (0.1.5)\n",
      "Requirement already satisfied: colorama in c:\\users\\misty.hickman\\appdata\\roaming\\python\\python312\\site-packages (from tqdm<5.0.0,>=4.38.0->spacy) (0.4.6)\n",
      "Requirement already satisfied: click>=8.0.0 in c:\\users\\misty.hickman\\appdata\\roaming\\python\\python312\\site-packages (from typer<1.0.0,>=0.3.0->spacy) (8.1.7)\n",
      "Requirement already satisfied: shellingham>=1.3.0 in c:\\users\\misty.hickman\\appdata\\roaming\\python\\python312\\site-packages (from typer<1.0.0,>=0.3.0->spacy) (1.5.4)\n",
      "Requirement already satisfied: rich>=10.11.0 in c:\\users\\misty.hickman\\appdata\\roaming\\python\\python312\\site-packages (from typer<1.0.0,>=0.3.0->spacy) (13.9.4)\n",
      "Requirement already satisfied: cloudpathlib<1.0.0,>=0.7.0 in c:\\users\\misty.hickman\\appdata\\roaming\\python\\python312\\site-packages (from weasel<0.5.0,>=0.1.0->spacy) (0.20.0)\n",
      "Requirement already satisfied: smart-open<8.0.0,>=5.2.1 in c:\\users\\misty.hickman\\appdata\\roaming\\python\\python312\\site-packages (from weasel<0.5.0,>=0.1.0->spacy) (7.1.0)\n",
      "Requirement already satisfied: MarkupSafe>=2.0 in c:\\users\\misty.hickman\\appdata\\roaming\\python\\python312\\site-packages (from jinja2->spacy) (3.0.1)\n",
      "Requirement already satisfied: marisa-trie>=1.1.0 in c:\\users\\misty.hickman\\appdata\\roaming\\python\\python312\\site-packages (from language-data>=1.2->langcodes<4.0.0,>=3.2.0->spacy) (1.2.1)\n",
      "Requirement already satisfied: markdown-it-py>=2.2.0 in c:\\users\\misty.hickman\\appdata\\roaming\\python\\python312\\site-packages (from rich>=10.11.0->typer<1.0.0,>=0.3.0->spacy) (3.0.0)\n",
      "Requirement already satisfied: pygments<3.0.0,>=2.13.0 in c:\\users\\misty.hickman\\appdata\\roaming\\python\\python312\\site-packages (from rich>=10.11.0->typer<1.0.0,>=0.3.0->spacy) (2.19.0)\n",
      "Requirement already satisfied: wrapt in c:\\users\\misty.hickman\\appdata\\roaming\\python\\python312\\site-packages (from smart-open<8.0.0,>=5.2.1->weasel<0.5.0,>=0.1.0->spacy) (1.17.2)\n",
      "Requirement already satisfied: mdurl~=0.1 in c:\\users\\misty.hickman\\appdata\\roaming\\python\\python312\\site-packages (from markdown-it-py>=2.2.0->rich>=10.11.0->typer<1.0.0,>=0.3.0->spacy) (0.1.2)\n",
      "Defaulting to user installation because normal site-packages is not writeable\n",
      "Collecting en-core-web-sm==3.8.0\n",
      "  Downloading https://github.com/explosion/spacy-models/releases/download/en_core_web_sm-3.8.0/en_core_web_sm-3.8.0-py3-none-any.whl (12.8 MB)\n",
      "     ---------------------------------------- 0.0/12.8 MB ? eta -:--:--\n",
      "     --- ------------------------------------ 1.0/12.8 MB 8.4 MB/s eta 0:00:02\n",
      "     ----------------------- ---------------- 7.6/12.8 MB 23.5 MB/s eta 0:00:01\n",
      "     --------------------------------------- 12.8/12.8 MB 25.9 MB/s eta 0:00:00\n",
      "\u001b[38;5;2m✔ Download and installation successful\u001b[0m\n",
      "You can now load the package via spacy.load('en_core_web_sm')\n",
      "Defaulting to user installation because normal site-packages is not writeable\n",
      "Requirement already satisfied: graphviz in c:\\users\\misty.hickman\\appdata\\roaming\\python\\python312\\site-packages (0.20.3)\n",
      "Defaulting to user installation because normal site-packages is not writeable\n",
      "Requirement already satisfied: nltk in c:\\users\\misty.hickman\\appdata\\roaming\\python\\python312\\site-packages (3.9.1)\n",
      "Requirement already satisfied: click in c:\\users\\misty.hickman\\appdata\\roaming\\python\\python312\\site-packages (from nltk) (8.1.7)\n",
      "Requirement already satisfied: joblib in c:\\users\\misty.hickman\\appdata\\roaming\\python\\python312\\site-packages (from nltk) (1.4.2)\n",
      "Requirement already satisfied: regex>=2021.8.3 in c:\\users\\misty.hickman\\appdata\\roaming\\python\\python312\\site-packages (from nltk) (2024.9.11)\n",
      "Requirement already satisfied: tqdm in c:\\users\\misty.hickman\\appdata\\roaming\\python\\python312\\site-packages (from nltk) (4.66.5)\n",
      "Requirement already satisfied: colorama in c:\\users\\misty.hickman\\appdata\\roaming\\python\\python312\\site-packages (from click->nltk) (0.4.6)\n"
     ]
    }
   ],
   "source": [
    "!pip install --upgrade gensim pyLDAvis mlflow\n",
    "!pip install protobuf==3.19.0\n",
    "!pip install spacy\n",
    "!python -m spacy download en_core_web_sm\n",
    "!pip install graphviz\n",
    "!pip install --upgrade nltk"
   ]
  },
  {
   "cell_type": "code",
   "execution_count": 1,
   "metadata": {},
   "outputs": [
    {
     "name": "stderr",
     "output_type": "stream",
     "text": [
      "C:\\Users\\misty.hickman\\AppData\\Roaming\\Python\\Python312\\site-packages\\google\\protobuf\\internal\\well_known_types.py:92: DeprecationWarning: datetime.datetime.utcfromtimestamp() is deprecated and scheduled for removal in a future version. Use timezone-aware objects to represent datetimes in UTC: datetime.datetime.fromtimestamp(timestamp, datetime.UTC).\n",
      "  _EPOCH_DATETIME = datetime.utcfromtimestamp(0)\n",
      "C:\\Users\\misty.hickman\\AppData\\Roaming\\Python\\Python312\\site-packages\\mlflow\\gateway\\config.py:64: PydanticDeprecatedSince20: Pydantic V1 style `@validator` validators are deprecated. You should migrate to Pydantic V2 style `@field_validator` validators, see the migration guide for more details. Deprecated in Pydantic V2.0 to be removed in V3.0. See Pydantic V2 Migration Guide at https://errors.pydantic.dev/2.9/migration/\n",
      "  @validator(\"togetherai_api_key\", pre=True)\n",
      "C:\\Users\\misty.hickman\\AppData\\Roaming\\Python\\Python312\\site-packages\\mlflow\\gateway\\config.py:78: PydanticDeprecatedSince20: Pydantic V1 style `@validator` validators are deprecated. You should migrate to Pydantic V2 style `@field_validator` validators, see the migration guide for more details. Deprecated in Pydantic V2.0 to be removed in V3.0. See Pydantic V2 Migration Guide at https://errors.pydantic.dev/2.9/migration/\n",
      "  @validator(\"cohere_api_key\", pre=True)\n",
      "C:\\Users\\misty.hickman\\AppData\\Roaming\\Python\\Python312\\site-packages\\mlflow\\gateway\\config.py:86: PydanticDeprecatedSince20: Pydantic V1 style `@validator` validators are deprecated. You should migrate to Pydantic V2 style `@field_validator` validators, see the migration guide for more details. Deprecated in Pydantic V2.0 to be removed in V3.0. See Pydantic V2 Migration Guide at https://errors.pydantic.dev/2.9/migration/\n",
      "  @validator(\"ai21labs_api_key\", pre=True)\n",
      "C:\\Users\\misty.hickman\\AppData\\Roaming\\Python\\Python312\\site-packages\\mlflow\\gateway\\config.py:95: PydanticDeprecatedSince20: Pydantic V1 style `@validator` validators are deprecated. You should migrate to Pydantic V2 style `@field_validator` validators, see the migration guide for more details. Deprecated in Pydantic V2.0 to be removed in V3.0. See Pydantic V2 Migration Guide at https://errors.pydantic.dev/2.9/migration/\n",
      "  @validator(\"mosaicml_api_key\", pre=True)\n",
      "C:\\Users\\misty.hickman\\AppData\\Roaming\\Python\\Python312\\site-packages\\mlflow\\gateway\\config.py:125: PydanticDeprecatedSince20: Pydantic V1 style `@validator` validators are deprecated. You should migrate to Pydantic V2 style `@field_validator` validators, see the migration guide for more details. Deprecated in Pydantic V2.0 to be removed in V3.0. See Pydantic V2 Migration Guide at https://errors.pydantic.dev/2.9/migration/\n",
      "  @validator(\"openai_api_key\", pre=True)\n",
      "C:\\Users\\misty.hickman\\AppData\\Roaming\\Python\\Python312\\site-packages\\mlflow\\gateway\\config.py:182: PydanticDeprecatedSince20: Pydantic V1 style `@validator` validators are deprecated. You should migrate to Pydantic V2 style `@field_validator` validators, see the migration guide for more details. Deprecated in Pydantic V2.0 to be removed in V3.0. See Pydantic V2 Migration Guide at https://errors.pydantic.dev/2.9/migration/\n",
      "  @validator(\"anthropic_api_key\", pre=True)\n",
      "C:\\Users\\misty.hickman\\AppData\\Roaming\\Python\\Python312\\site-packages\\mlflow\\gateway\\config.py:190: PydanticDeprecatedSince20: Pydantic V1 style `@validator` validators are deprecated. You should migrate to Pydantic V2 style `@field_validator` validators, see the migration guide for more details. Deprecated in Pydantic V2.0 to be removed in V3.0. See Pydantic V2 Migration Guide at https://errors.pydantic.dev/2.9/migration/\n",
      "  @validator(\"palm_api_key\", pre=True)\n",
      "C:\\Users\\misty.hickman\\AppData\\Roaming\\Python\\Python312\\site-packages\\mlflow\\gateway\\config.py:230: PydanticDeprecatedSince20: Pydantic V1 style `@validator` validators are deprecated. You should migrate to Pydantic V2 style `@field_validator` validators, see the migration guide for more details. Deprecated in Pydantic V2.0 to be removed in V3.0. See Pydantic V2 Migration Guide at https://errors.pydantic.dev/2.9/migration/\n",
      "  @validator(\"mistral_api_key\", pre=True)\n",
      "C:\\Users\\misty.hickman\\AppData\\Roaming\\Python\\Python312\\site-packages\\mlflow\\gateway\\config.py:284: PydanticDeprecatedSince20: Pydantic V1 style `@validator` validators are deprecated. You should migrate to Pydantic V2 style `@field_validator` validators, see the migration guide for more details. Deprecated in Pydantic V2.0 to be removed in V3.0. See Pydantic V2 Migration Guide at https://errors.pydantic.dev/2.9/migration/\n",
      "  @validator(\"provider\", pre=True)\n",
      "C:\\Users\\misty.hickman\\AppData\\Roaming\\Python\\Python312\\site-packages\\mlflow\\gateway\\config.py:311: PydanticDeprecatedSince20: Pydantic V1 style `@validator` validators are deprecated. You should migrate to Pydantic V2 style `@field_validator` validators, see the migration guide for more details. Deprecated in Pydantic V2.0 to be removed in V3.0. See Pydantic V2 Migration Guide at https://errors.pydantic.dev/2.9/migration/\n",
      "  @validator(\"config\", pre=True)\n",
      "C:\\Users\\misty.hickman\\AppData\\Roaming\\Python\\Python312\\site-packages\\mlflow\\gateway\\config.py:351: PydanticDeprecatedSince20: Pydantic V1 style `@validator` validators are deprecated. You should migrate to Pydantic V2 style `@field_validator` validators, see the migration guide for more details. Deprecated in Pydantic V2.0 to be removed in V3.0. See Pydantic V2 Migration Guide at https://errors.pydantic.dev/2.9/migration/\n",
      "  @validator(\"name\")\n",
      "C:\\Users\\misty.hickman\\AppData\\Roaming\\Python\\Python312\\site-packages\\mlflow\\gateway\\config.py:361: PydanticDeprecatedSince20: Pydantic V1 style `@validator` validators are deprecated. You should migrate to Pydantic V2 style `@field_validator` validators, see the migration guide for more details. Deprecated in Pydantic V2.0 to be removed in V3.0. See Pydantic V2 Migration Guide at https://errors.pydantic.dev/2.9/migration/\n",
      "  @validator(\"model\", pre=True)\n",
      "C:\\Users\\misty.hickman\\AppData\\Roaming\\Python\\Python312\\site-packages\\mlflow\\gateway\\config.py:372: PydanticDeprecatedSince20: Pydantic V1 style `@root_validator` validators are deprecated. You should migrate to Pydantic V2 style `@model_validator` validators, see the migration guide for more details. Deprecated in Pydantic V2.0 to be removed in V3.0. See Pydantic V2 Migration Guide at https://errors.pydantic.dev/2.9/migration/\n",
      "  @root_validator(skip_on_failure=True)\n",
      "C:\\Users\\misty.hickman\\AppData\\Roaming\\Python\\Python312\\site-packages\\mlflow\\gateway\\config.py:394: PydanticDeprecatedSince20: Pydantic V1 style `@validator` validators are deprecated. You should migrate to Pydantic V2 style `@field_validator` validators, see the migration guide for more details. Deprecated in Pydantic V2.0 to be removed in V3.0. See Pydantic V2 Migration Guide at https://errors.pydantic.dev/2.9/migration/\n",
      "  @validator(\"route_type\", pre=True)\n",
      "C:\\Users\\misty.hickman\\AppData\\Roaming\\Python\\Python312\\site-packages\\mlflow\\gateway\\config.py:400: PydanticDeprecatedSince20: Pydantic V1 style `@validator` validators are deprecated. You should migrate to Pydantic V2 style `@field_validator` validators, see the migration guide for more details. Deprecated in Pydantic V2.0 to be removed in V3.0. See Pydantic V2 Migration Guide at https://errors.pydantic.dev/2.9/migration/\n",
      "  @validator(\"limit\", pre=True)\n",
      "C:\\Users\\misty.hickman\\AppData\\Roaming\\Python\\Python312\\site-packages\\pydantic\\_internal\\_config.py:291: PydanticDeprecatedSince20: Support for class-based `config` is deprecated, use ConfigDict instead. Deprecated in Pydantic V2.0 to be removed in V3.0. See Pydantic V2 Migration Guide at https://errors.pydantic.dev/2.9/migration/\n",
      "  warnings.warn(DEPRECATION_MESSAGE, DeprecationWarning)\n"
     ]
    }
   ],
   "source": [
    "import re\n",
    "import os\n",
    "import sys\n",
    "import pickle\n",
    "import gensim\n",
    "import spacy\n",
    "import pyLDAvis\n",
    "import pandas as pd\n",
    "from tqdm import tqdm\n",
    "import matplotlib.pyplot as plt\n",
    "from gensim import corpora\n",
    "from datetime import datetime\n",
    "from gensim.corpora import Dictionary\n",
    "from gensim.models import CoherenceModel\n",
    "from gensim.models.ldamodel import LdaModel\n",
    "import pyLDAvis.gensim_models as gensimvis\n",
    "from spacy.lang.en.stop_words import STOP_WORDS\n",
    "from sklearn.tree import export_graphviz\n",
    "import graphviz\n",
    "\n",
    "tqdm.pandas() \n",
    "\n",
    "\n",
    "from sklearn.model_selection import train_test_split\n",
    "from sklearn.preprocessing import StandardScaler, LabelEncoder\n",
    "from sklearn.compose import ColumnTransformer\n",
    "from sklearn.pipeline import Pipeline\n",
    "from sklearn.ensemble import RandomForestClassifier\n",
    "from sklearn.metrics import classification_report, confusion_matrix, accuracy_score\n",
    "import mlflow\n",
    "import mlflow.sklearn"
   ]
  },
  {
   "cell_type": "code",
   "execution_count": 2,
   "metadata": {},
   "outputs": [
    {
     "name": "stdout",
     "output_type": "stream",
     "text": [
      "Defaulting to user installation because normal site-packages is not writeable\n",
      "Requirement already satisfied: nltk in c:\\users\\misty.hickman\\appdata\\roaming\\python\\python312\\site-packages (3.9.1)\n",
      "Requirement already satisfied: click in c:\\users\\misty.hickman\\appdata\\roaming\\python\\python312\\site-packages (from nltk) (8.1.7)\n",
      "Requirement already satisfied: joblib in c:\\users\\misty.hickman\\appdata\\roaming\\python\\python312\\site-packages (from nltk) (1.4.2)\n",
      "Requirement already satisfied: regex>=2021.8.3 in c:\\users\\misty.hickman\\appdata\\roaming\\python\\python312\\site-packages (from nltk) (2024.9.11)\n",
      "Requirement already satisfied: tqdm in c:\\users\\misty.hickman\\appdata\\roaming\\python\\python312\\site-packages (from nltk) (4.66.5)\n",
      "Requirement already satisfied: colorama in c:\\users\\misty.hickman\\appdata\\roaming\\python\\python312\\site-packages (from click->nltk) (0.4.6)\n",
      "Note: you may need to restart the kernel to use updated packages.\n"
     ]
    }
   ],
   "source": [
    "pip install nltk"
   ]
  },
  {
   "cell_type": "code",
   "execution_count": 8,
   "metadata": {},
   "outputs": [
    {
     "name": "stderr",
     "output_type": "stream",
     "text": [
      "[nltk_data] Downloading package punkt to\n",
      "[nltk_data]     C:\\Users\\misty.hickman\\AppData\\Roaming\\nltk_data...\n",
      "[nltk_data]   Package punkt is already up-to-date!\n",
      "[nltk_data] Downloading package punkt_tab to\n",
      "[nltk_data]     C:\\Users\\misty.hickman\\AppData\\Roaming\\nltk_data...\n",
      "[nltk_data]   Unzipping tokenizers\\punkt_tab.zip.\n",
      "[nltk_data] Downloading package stopwords to\n",
      "[nltk_data]     C:\\Users\\misty.hickman\\AppData\\Roaming\\nltk_data...\n",
      "[nltk_data]   Package stopwords is already up-to-date!\n",
      "[nltk_data] Downloading package wordnet to\n",
      "[nltk_data]     C:\\Users\\misty.hickman\\AppData\\Roaming\\nltk_data...\n",
      "[nltk_data]   Package wordnet is already up-to-date!\n"
     ]
    }
   ],
   "source": [
    "import nltk\n",
    "from nltk.corpus import stopwords\n",
    "from nltk.stem import WordNetLemmatizer\n",
    "from sklearn.feature_extraction.text import TfidfVectorizer\n",
    "from gensim.matutils import Sparse2Corpus\n",
    "\n",
    "\n",
    "# Download NLTK resources (if not already downloaded)\n",
    "nltk.download('punkt')\n",
    "nltk.download('punkt_tab')\n",
    "nltk.download('stopwords')\n",
    "nltk.download('wordnet')\n",
    "\n",
    "# Initialize lemmatizer and stopwords\n",
    "lemmatizer = WordNetLemmatizer()\n",
    "stop_words = set(stopwords.words('english'))"
   ]
  },
  {
   "cell_type": "code",
   "execution_count": 9,
   "metadata": {},
   "outputs": [
    {
     "name": "stdout",
     "output_type": "stream",
     "text": [
      "The mode artifacts will be saved in /model_artifacts/run_2025-01-18-07:50:14AM\n"
     ]
    }
   ],
   "source": [
    "today = datetime.today().strftime(\"%Y-%m-%d-%I:%M:%S%p\")\n",
    "run_dir = f\"/model_artifacts/run_{today}\"\n",
    "print(f\"The mode artifacts will be saved in {run_dir}\")"
   ]
  },
  {
   "cell_type": "code",
   "execution_count": 10,
   "metadata": {},
   "outputs": [
    {
     "data": {
      "text/plain": [
       "Index(['reviews', 'response_reviews', 'start_date', 'end_date'], dtype='object')"
      ]
     },
     "execution_count": 10,
     "metadata": {},
     "output_type": "execute_result"
    }
   ],
   "source": [
    "train_df = pd.read_csv('research_review_data.csv')\n",
    "#display the requests table\n",
    "train_df.columns"
   ]
  },
  {
   "cell_type": "code",
   "execution_count": 11,
   "metadata": {},
   "outputs": [],
   "source": [
    "# Function to preprocess text\n",
    "def preprocess_text(text):\n",
    "    \"\"\"\n",
    "    Preprocess text by tokenizing, lowercasing, removing stopwords, and lemmatizing.\n",
    "    \"\"\"\n",
    "    tokens = nltk.word_tokenize(text.lower())  # Tokenize and lowercase\n",
    "    lemmatized_tokens = [\n",
    "        lemmatizer.lemmatize(token) for token in tokens if token.isalpha() and token not in stop_words\n",
    "    ]\n",
    "    return \" \".join(lemmatized_tokens)"
   ]
  },
  {
   "cell_type": "code",
   "execution_count": 12,
   "metadata": {},
   "outputs": [
    {
     "data": {
      "text/html": [
       "<div>\n",
       "<style scoped>\n",
       "    .dataframe tbody tr th:only-of-type {\n",
       "        vertical-align: middle;\n",
       "    }\n",
       "\n",
       "    .dataframe tbody tr th {\n",
       "        vertical-align: top;\n",
       "    }\n",
       "\n",
       "    .dataframe thead th {\n",
       "        text-align: right;\n",
       "    }\n",
       "</style>\n",
       "<table border=\"1\" class=\"dataframe\">\n",
       "  <thead>\n",
       "    <tr style=\"text-align: right;\">\n",
       "      <th></th>\n",
       "      <th>reviews</th>\n",
       "      <th>response_reviews</th>\n",
       "      <th>start_date</th>\n",
       "      <th>end_date</th>\n",
       "    </tr>\n",
       "  </thead>\n",
       "  <tbody>\n",
       "    <tr>\n",
       "      <th>0</th>\n",
       "      <td>The focus is on presenting a balanced perspect...</td>\n",
       "      <td>Focus on connecting your findings back to the ...</td>\n",
       "      <td>12/7/2024 10:33</td>\n",
       "      <td>12/28/2024 13:33</td>\n",
       "    </tr>\n",
       "    <tr>\n",
       "      <th>1</th>\n",
       "      <td>I began researching the topic of biology by fo...</td>\n",
       "      <td>Your initial review is detailed, but consider ...</td>\n",
       "      <td>11/4/2024 13:33</td>\n",
       "      <td>11/10/2024 22:33</td>\n",
       "    </tr>\n",
       "    <tr>\n",
       "      <th>2</th>\n",
       "      <td>This research aims to provide a comprehensive ...</td>\n",
       "      <td>Ensure your conclusions align with the evidenc...</td>\n",
       "      <td>10/23/2024 8:33</td>\n",
       "      <td>11/12/2024 8:33</td>\n",
       "    </tr>\n",
       "    <tr>\n",
       "      <th>3</th>\n",
       "      <td>Time management was essential for completing t...</td>\n",
       "      <td>Consider narrowing your focus to make the argu...</td>\n",
       "      <td>12/1/2024 0:33</td>\n",
       "      <td>12/5/2024 6:33</td>\n",
       "    </tr>\n",
       "    <tr>\n",
       "      <th>4</th>\n",
       "      <td>One challenge was finding sufficient resources...</td>\n",
       "      <td>Excellent use of resources; keep up the thorou...</td>\n",
       "      <td>11/13/2024 6:33</td>\n",
       "      <td>11/26/2024 11:33</td>\n",
       "    </tr>\n",
       "  </tbody>\n",
       "</table>\n",
       "</div>"
      ],
      "text/plain": [
       "                                             reviews  \\\n",
       "0  The focus is on presenting a balanced perspect...   \n",
       "1  I began researching the topic of biology by fo...   \n",
       "2  This research aims to provide a comprehensive ...   \n",
       "3  Time management was essential for completing t...   \n",
       "4  One challenge was finding sufficient resources...   \n",
       "\n",
       "                                    response_reviews       start_date  \\\n",
       "0  Focus on connecting your findings back to the ...  12/7/2024 10:33   \n",
       "1  Your initial review is detailed, but consider ...  11/4/2024 13:33   \n",
       "2  Ensure your conclusions align with the evidenc...  10/23/2024 8:33   \n",
       "3  Consider narrowing your focus to make the argu...   12/1/2024 0:33   \n",
       "4  Excellent use of resources; keep up the thorou...  11/13/2024 6:33   \n",
       "\n",
       "           end_date  \n",
       "0  12/28/2024 13:33  \n",
       "1  11/10/2024 22:33  \n",
       "2   11/12/2024 8:33  \n",
       "3    12/5/2024 6:33  \n",
       "4  11/26/2024 11:33  "
      ]
     },
     "execution_count": 12,
     "metadata": {},
     "output_type": "execute_result"
    }
   ],
   "source": [
    "train_df.head()"
   ]
  },
  {
   "cell_type": "code",
   "execution_count": 15,
   "metadata": {},
   "outputs": [
    {
     "name": "stdout",
     "output_type": "stream",
     "text": [
      "Index(['reviews', 'response_reviews', 'start_date', 'end_date',\n",
      "       'processed_reviews', 'processed_response_reviews', 'combined_text'],\n",
      "      dtype='object')\n",
      "                                       combined_text\n",
      "0  focus presenting balanced perspective addressi...\n",
      "1  began researching topic biology focusing write...\n",
      "2  research aim provide comprehensive understandi...\n",
      "3  time management essential completing task rela...\n",
      "4  one challenge finding sufficient resource art ...\n"
     ]
    }
   ],
   "source": [
    "#creating new processed columns\n",
    "train_df['processed_reviews'] = train_df['reviews'].apply(lambda x: preprocess_text(x) if isinstance(x, str) else [])\n",
    "train_df['processed_response_reviews'] = train_df['response_reviews'].apply(lambda x: preprocess_text(x) if isinstance(x, str) else [])\n",
    "\n",
    "#concatenate memo and memo response for topic modeling  \n",
    "train_df['combined_text'] = (\n",
    "    train_df['processed_reviews'].fillna(\"\") + \" \" + train_df['processed_response_reviews'].fillna(\"\")\n",
    ")\n",
    "\n",
    "\n",
    "print(train_df.columns)  # Check all column names\n",
    "print(train_df[['combined_text']].head())  # Check the contents of combined_text"
   ]
  },
  {
   "cell_type": "code",
   "execution_count": 16,
   "metadata": {},
   "outputs": [],
   "source": [
    "# Create a TF-IDF matrix\n",
    "tfidf_vectorizer = TfidfVectorizer(\n",
    "    max_features=5000,  # Limit vocabulary size to most important terms\n",
    "    stop_words='english',\n",
    "    max_df=0.95,  # Ignore terms in more than 95% of documents\n",
    "    min_df=2      # Ignore terms in fewer than 2 documents\n",
    ")\n",
    "tfidf_matrix = tfidf_vectorizer.fit_transform(train_df['combined_text'])"
   ]
  },
  {
   "cell_type": "code",
   "execution_count": 17,
   "metadata": {},
   "outputs": [
    {
     "name": "stdout",
     "output_type": "stream",
     "text": [
      "Number of unique tokens in dictionary: 136\n",
      "TF-IDF Corpus created with 100 documents.\n"
     ]
    }
   ],
   "source": [
    "# Map the TF-IDF matrix to Gensim-compatible corpus\n",
    "gensim_corpus = Sparse2Corpus(tfidf_matrix, documents_columns=False)\n",
    "gensim_dictionary = Dictionary([tfidf_vectorizer.get_feature_names_out()])\n",
    "\n",
    "# Output basic stats\n",
    "print(f\"Number of unique tokens in dictionary: {len(gensim_dictionary)}\")\n",
    "print(f\"TF-IDF Corpus created with {len(gensim_corpus)} documents.\")"
   ]
  },
  {
   "cell_type": "code",
   "execution_count": 18,
   "metadata": {},
   "outputs": [
    {
     "name": "stdout",
     "output_type": "stream",
     "text": [
      "Topic 0: 0.059*\"historygreat\" + 0.040*\"sciencestrong\" + 0.038*\"systematicallyensure\" + 0.038*\"historyexcellent\" + 0.027*\"scienceexcellent\" + 0.009*\"psychology\" + 0.008*\"computer\" + 0.007*\"summarize\" + 0.007*\"event\" + 0.007*\"focus\"\n",
      "Topic 1: 0.074*\"event\" + 0.074*\"summarize\" + 0.050*\"economicsgreat\" + 0.041*\"historyconsider\" + 0.030*\"biologymight\" + 0.007*\"biology\" + 0.007*\"key\" + 0.007*\"focus\" + 0.007*\"angle\" + 0.007*\"point\"\n",
      "Topic 2: 0.057*\"systematicallyexcellent\" + 0.038*\"systematicallymight\" + 0.007*\"consider\" + 0.007*\"ensure\" + 0.007*\"key\" + 0.007*\"history\" + 0.007*\"point\" + 0.007*\"use\" + 0.007*\"analysis\" + 0.007*\"art\"\n",
      "Topic 3: 0.096*\"physic\" + 0.087*\"philosophy\" + 0.049*\"supported\" + 0.049*\"building\" + 0.023*\"biologyinitial\" + 0.016*\"databaseensure\" + 0.014*\"physicfocus\" + 0.013*\"study\" + 0.013*\"key\" + 0.011*\"include\"\n",
      "Topic 4: 0.010*\"systematicallyexcellent\" + 0.010*\"event\" + 0.010*\"summarize\" + 0.008*\"biology\" + 0.008*\"psychology\" + 0.008*\"strong\" + 0.008*\"computer\" + 0.008*\"research\" + 0.008*\"focus\" + 0.008*\"aim\"\n",
      "Topic 5: 0.008*\"history\" + 0.008*\"key\" + 0.008*\"focus\" + 0.008*\"consider\" + 0.008*\"make\" + 0.008*\"point\" + 0.008*\"economics\" + 0.008*\"ensure\" + 0.008*\"research\" + 0.008*\"include\"\n",
      "Topic 6: 0.104*\"recent\" + 0.091*\"relevance\" + 0.073*\"study\" + 0.020*\"evaluate\" + 0.020*\"case\" + 0.007*\"databaseconsider\" + 0.006*\"art\" + 0.006*\"economics\" + 0.006*\"focus\" + 0.006*\"biology\"\n",
      "Topic 7: 0.023*\"key\" + 0.022*\"focus\" + 0.018*\"consider\" + 0.017*\"ensure\" + 0.017*\"point\" + 0.017*\"finding\" + 0.017*\"research\" + 0.016*\"make\" + 0.016*\"question\" + 0.016*\"resource\"\n",
      "Topic 8: 0.009*\"computer\" + 0.009*\"science\" + 0.008*\"economics\" + 0.008*\"key\" + 0.008*\"focus\" + 0.008*\"consider\" + 0.008*\"question\" + 0.008*\"ensure\" + 0.008*\"point\" + 0.008*\"make\"\n",
      "Topic 9: 0.008*\"art\" + 0.008*\"focus\" + 0.008*\"make\" + 0.008*\"computer\" + 0.008*\"science\" + 0.008*\"resource\" + 0.008*\"argument\" + 0.008*\"finding\" + 0.007*\"excellent\" + 0.007*\"research\"\n"
     ]
    }
   ],
   "source": [
    "# Train the LDA model using Gensim\n",
    "from gensim.models.ldamodel import LdaModel\n",
    "\n",
    "# Define the number of topics\n",
    "num_topics = 10\n",
    "\n",
    "# Train the LDA model\n",
    "lda_model = LdaModel(\n",
    "    corpus=gensim_corpus,\n",
    "    num_topics=num_topics,\n",
    "    id2word=gensim_dictionary,\n",
    "    passes=10,\n",
    "    random_state=42\n",
    ")\n",
    "\n",
    "# Print topics\n",
    "for idx, topic in lda_model.print_topics(-1):\n",
    "    print(f\"Topic {idx}: {topic}\")\n"
   ]
  }
 ],
 "metadata": {
  "kernelspec": {
   "display_name": "Python 3",
   "language": "python",
   "name": "python3"
  },
  "language_info": {
   "codemirror_mode": {
    "name": "ipython",
    "version": 3
   },
   "file_extension": ".py",
   "mimetype": "text/x-python",
   "name": "python",
   "nbconvert_exporter": "python",
   "pygments_lexer": "ipython3",
   "version": "3.12.6"
  }
 },
 "nbformat": 4,
 "nbformat_minor": 2
}
